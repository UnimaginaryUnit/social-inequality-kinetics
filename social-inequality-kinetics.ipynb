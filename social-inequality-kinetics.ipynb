{
 "cells": [
  {
   "cell_type": "code",
   "execution_count": 1,
   "metadata": {},
   "outputs": [],
   "source": [
    "import numpy as np"
   ]
  },
  {
   "cell_type": "code",
   "execution_count": 5,
   "metadata": {},
   "outputs": [],
   "source": [
    "class Economy:\n",
    "    def __init__(self, population_size=int(1e4), initial_money=100, log_epoch=1000):\n",
    "        self.ppl = population_size\n",
    "        self.money = np.ones([population_size]) * initial_money\n",
    "        \n",
    "        self.log_epoch = log_epoch\n",
    "        self.money_log = []\n",
    "        \n",
    "    def __day(self):\n",
    "        winners = np.random.randint(0, self.ppl, size=self.ppl)\n",
    "        loosers = np.random.randint(0, self.ppl, size=self.ppl)\n",
    "        \n",
    "        broke_mask = (self.money[loosers] != 0)\n",
    "        \n",
    "        self.money[winners] = self.money[winners] + np.ones(self.ppl) * broke_mask\n",
    "        self.money[loosers] = self.money[loosers] - np.ones(self.ppl) * broke_mask\n",
    "    \n",
    "    def __call__(self, n_epoch=100):\n",
    "        for epoch in range(n_epoch):\n",
    "            self.__day()\n",
    "        \n",
    "        return self.money"
   ]
  },
  {
   "cell_type": "code",
   "execution_count": 11,
   "metadata": {},
   "outputs": [
    {
     "name": "stdout",
     "output_type": "stream",
     "text": [
      "CPU times: user 55.9 s, sys: 5.76 ms, total: 55.9 s\n",
      "Wall time: 56.2 s\n"
     ]
    }
   ],
   "source": [
    "%%time\n",
    "\n",
    "econ = Economy(population_size=10000, log_epoch=1000)\n",
    "money_log = econ(100000)"
   ]
  },
  {
   "cell_type": "code",
   "execution_count": 12,
   "metadata": {},
   "outputs": [
    {
     "data": {
      "image/png": "[encoded data removed]",
      "text/plain": [
       "<matplotlib.figure.Figure at 0x7f54e353b358>"
      ]
     },
     "metadata": {},
     "output_type": "display_data"
    }
   ],
   "source": [
    "import matplotlib.pyplot as plt\n",
    "%matplotlib inline\n",
    "\n",
    "plt.hist(money_log, bins=100);"
   ]
  }
 ],
 "metadata": {
  "kernelspec": {
   "display_name": "Python 3",
   "language": "python",
   "name": "python3"
  },
  "language_info": {
   "codemirror_mode": {
    "name": "ipython",
    "version": 3
   },
   "file_extension": ".py",
   "mimetype": "text/x-python",
   "name": "python",
   "nbconvert_exporter": "python",
   "pygments_lexer": "ipython3",
   "version": "3.6.4"
  }
 },
 "nbformat": 4,
 "nbformat_minor": 2
}
