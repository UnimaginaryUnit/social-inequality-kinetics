{
 "cells": [
  {
   "cell_type": "code",
   "execution_count": 1,
   "metadata": {},
   "outputs": [],
   "source": [
    "import numpy as np"
   ]
  },
  {
   "cell_type": "code",
   "execution_count": 6,
   "metadata": {},
   "outputs": [],
   "source": [
    "class Economy:\n",
    "    def __init__(self, population_size=int(1e4), initial_money=100, log_epoch=1000):\n",
    "        self.ppl = population_size\n",
    "        self.money = np.ones([population_size]) * initial_money\n",
    "        \n",
    "        self.log_epoch = log_epoch\n",
    "        self.money_log = []\n",
    "        \n",
    "    def day(self):\n",
    "        winners = np.random.randint(0, self.ppl, size=self.ppl)\n",
    "        loosers = np.random.randint(0, self.ppl, size=self.ppl)\n",
    "        \n",
    "        broke_mask = (self.money[loosers] != 0)\n",
    "        \n",
    "        self.money[winners] = self.money[winners] + np.ones(self.ppl) * broke_mask\n",
    "        self.money[loosers] = self.money[loosers] - np.ones(self.ppl) * broke_mask\n",
    "    \n",
    "    def __call__(self, n_epoch=1):\n",
    "        for epoch in range(n_epoch):\n",
    "            self.day()\n",
    "        \n",
    "        return self.money.copy()"
   ]
  },
  {
   "cell_type": "code",
   "execution_count": null,
   "metadata": {},
   "outputs": [],
   "source": [
    "%%time\n",
    "\n",
    "econ = Economy(population_size=10000, log_epoch=1000)\n",
    "money_log = econ(100000)"
   ]
  },
  {
   "cell_type": "code",
   "execution_count": null,
   "metadata": {},
   "outputs": [
    {
     "name": "stdout",
     "output_type": "stream",
     "text": [
      "Running the economy\n",
      "Creating the animation\n",
      "Saving animation to file\n"
     ]
    }
   ],
   "source": [
    "import numpy as np\n",
    "import matplotlib.pyplot as plt\n",
    "import matplotlib.animation as animation\n",
    "\n",
    "economy = Economy(10000)\n",
    "\n",
    "print(\"Running the economy\")\n",
    "number_of_frames = 1000\n",
    "data = [economy.money.copy()] + [economy(100) for _ in range(number_of_frames)]\n",
    "\n",
    "def update_hist(num, data): \n",
    "    plt.cla()\n",
    "    plt.hist(data[num], color=\"pink\")\n",
    "\n",
    "fig = plt.figure()\n",
    "hist = plt.hist(data[0])\n",
    "\n",
    "print(\"Creating the animation\")\n",
    "animation = animation.FuncAnimation(fig, update_hist, number_of_frames, fargs=(data, ) )\n",
    "\n",
    "print(\"Saving animation to file\")\n",
    "animation.save(\"animation.mp4\")"
   ]
  }
 ],
 "metadata": {
  "kernelspec": {
   "display_name": "Python 3",
   "language": "python",
   "name": "python3"
  },
  "language_info": {
   "codemirror_mode": {
    "name": "ipython",
    "version": 3
   },
   "file_extension": ".py",
   "mimetype": "text/x-python",
   "name": "python",
   "nbconvert_exporter": "python",
   "pygments_lexer": "ipython3",
   "version": "3.6.4"
  }
 },
 "nbformat": 4,
 "nbformat_minor": 2
}
